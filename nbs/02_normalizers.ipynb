{
 "cells": [
  {
   "cell_type": "markdown",
   "id": "3f9b98de",
   "metadata": {},
   "source": [
    "# Guidance Transformation class to normalize and schedule Classifier-free Guidance."
   ]
  },
  {
   "cell_type": "code",
   "execution_count": null,
   "id": "74da4aff",
   "metadata": {},
   "outputs": [],
   "source": [
    "#|default_exp normalizers"
   ]
  },
  {
   "cell_type": "markdown",
   "id": "eeda71c4",
   "metadata": {},
   "source": [
    "The following classes implement:  \n",
    "\n",
    "1. Baseline Classifier-free Guidance  \n",
    "2. Scaling the prediction by the ratio of norms  \n",
    "3. Scaling the `t - u` update by its norms  \n",
    "4. Scaling both 2. + 3."
   ]
  },
  {
   "cell_type": "code",
   "execution_count": null,
   "id": "13e0d322",
   "metadata": {},
   "outputs": [],
   "source": [
    "#|export\n",
    "\n",
    "import torch"
   ]
  },
  {
   "cell_type": "code",
   "execution_count": null,
   "id": "6cea65ef",
   "metadata": {},
   "outputs": [],
   "source": [
    "#| export\n",
    "\n",
    "class GuidanceTfm:\n",
    "    \"\"\"Baseline Classifier-free Guidance for Diffusion.\n",
    "    \"\"\"\n",
    "    name = \"CFGuidance\"\n",
    "    def __init__(self):\n",
    "        # the unconditioned and conditioned latents\n",
    "        self.u, self.t = None, None\n",
    "        # the guidance update\n",
    "        self.diff = None\n",
    "        # the final prediction\n",
    "        self.pred = None\n",
    "\n",
    "    def apply_cfg(self, guidance_scale):\n",
    "        self.pred = self.u + guidance_scale * (self.diff)\n",
    "\n",
    "    def pre_process(self):  pass\n",
    "    def post_process(self): pass\n",
    "\n",
    "    def set_u(self, u): self.u = u\n",
    "    def set_t(self, t): self.t = t\n",
    "    def set_latents(self, u, t):\n",
    "        self.u, self.t = u, t\n",
    "\n",
    "    def compute_update(self):\n",
    "        self.diff = self.t - self.u\n",
    "\n",
    "    def set_pred(self, pred): self.pred = pred\n",
    "    def get_pred(self): return self.pred\n",
    "    \n",
    "    \n",
    "class PredNormGuidance(GuidanceTfm):\n",
    "    \"\"\"Scales the noise prediction by its overall norm.\n",
    "    \"\"\"\n",
    "    name = \"BaseNormGuidance\"\n",
    "    def post_process(self):\n",
    "        self.pred = self.pred * (torch.linalg.norm(self.u) / torch.linalg.norm(self.pred))\n",
    "        \n",
    "        \n",
    "class TNormGuidance(GuidanceTfm):\n",
    "    \"\"\"Scales the latent mix of `t - u`.\n",
    "\n",
    "    Note: Roughly equivalent to the GuidedTTS Norm\n",
    "        Reference: https://arxiv.org/pdf/2205.15370.pdf\n",
    "    \"\"\"\n",
    "    name = \"TNormGuidance\"\n",
    "    def pre_process(self):\n",
    "        self.diff = (self.diff / torch.linalg.norm(self.diff)) * torch.linalg.norm(self.u)\n",
    "        \n",
    "        \n",
    "class FullNormGuidance(TNormGuidance, PredNormGuidance):\n",
    "    \"Applies both Prediction and T-Norm on the noise prediction.\"\n",
    "    name = \"FullNormGuidance\"\n",
    "\n",
    "\n",
    "'''Map from string name to guidance normalization class.\n",
    "'''\n",
    "name2norm = {\n",
    "    'no_norm': GuidanceTfm,\n",
    "    'pred_norm': PredNormGuidance,\n",
    "    't_norm': TNormGuidance,\n",
    "    'full_norm': FullNormGuidance,\n",
    "}"
   ]
  },
  {
   "cell_type": "code",
   "execution_count": null,
   "id": "9576b15c",
   "metadata": {},
   "outputs": [],
   "source": [
    "#| hide\n",
    "import nbdev; nbdev.nbdev_export()"
   ]
  }
 ],
 "metadata": {
  "kernelspec": {
   "display_name": "Python 3",
   "language": "python",
   "name": "python3"
  }
 },
 "nbformat": 4,
 "nbformat_minor": 5
}
