{
 "cells": [
  {
   "cell_type": "markdown",
   "id": "3f9b98de",
   "metadata": {},
   "source": [
    "# Guidance Transformation class to normalize and schedule Classifier-free Guidance."
   ]
  },
  {
   "cell_type": "code",
   "execution_count": null,
   "id": "74da4aff",
   "metadata": {},
   "outputs": [],
   "source": [
    "#|default_exp normalizers"
   ]
  },
  {
   "cell_type": "markdown",
   "id": "eeda71c4",
   "metadata": {},
   "source": [
    "The following classes implement:  \n",
    "\n",
    "1. Baseline Classifier-free Guidance  \n",
    "2. Scaling the prediction by the ratio of norms  \n",
    "3. Scaling the `t - u` update by its norms  \n",
    "4. Scaling both 2. + 3."
   ]
  },
  {
   "cell_type": "code",
   "execution_count": null,
   "id": "13e0d322",
   "metadata": {},
   "outputs": [],
   "source": [
    "#|export\n",
    "\n",
    "'''Code for blog post:\n",
    "    https://enzokro.dev/blog/posts/2022-11-15-guidance-expts-1\n",
    "'''\n",
    "import torch"
   ]
  },
  {
   "cell_type": "code",
   "execution_count": null,
   "id": "6cea65ef",
   "metadata": {},
   "outputs": [],
   "source": [
    "#| export\n",
    "\n",
    "class GuidanceTfm:\n",
    "    \"\"\"Baseline Classifier-free Guidance for Difussion.\n",
    "    \"\"\"\n",
    "    name = \"CFGuidance\"\n",
    "    def __init__(self, has_preproc=False, has_postproc=False):\n",
    "        self.has_preproc = has_preproc\n",
    "        self.has_postproc = has_postproc\n",
    "        self.u, self.t, self.pred = None, None, None\n",
    "\n",
    "    def pre_proc (self): pass\n",
    "    def post_proc(self): pass\n",
    "\n",
    "    def set_latents(self, u, t):\n",
    "        self.set_u(u), self.set_t(t)\n",
    "    def set_u(self, u): self.u = u\n",
    "    def set_t(self, t): self.t = t\n",
    "\n",
    "    def compute_update(self):\n",
    "        self.diff = self.t - self.u\n",
    "\n",
    "    def set_pred(self, pred): self.pred = pred\n",
    "    def get_pred(self): return self.pred\n",
    "    \n",
    "    \n",
    "class PredNormGuidance(GuidanceTfm):\n",
    "    \"\"\"Scales the noise prediction by its overall norm.\n",
    "    \"\"\"\n",
    "    name = \"BaseNormGuidance\"\n",
    "    def __init__(self, *args, **kwargs):\n",
    "        super().__init__(*args, has_postproc=True, **kwargs)\n",
    "    def post_proc(self):\n",
    "        self.pred = self.pred * (torch.linalg.norm(self.u) / torch.linalg.norm(self.pred))\n",
    "        \n",
    "        \n",
    "class TNormGuidance(GuidanceTfm):\n",
    "    \"\"\"Scales the latent mix of `t - u`\n",
    "    \"\"\"\n",
    "    name = \"TNormGuidance\"\n",
    "    def __init__(self, *args, **kwargs):\n",
    "        super().__init__(has_preproc=True)\n",
    "    def pre_proc(self):\n",
    "        self.diff = self.diff / torch.linalg.norm(self.diff) * torch.linalg.norm(self.u)\n",
    "        \n",
    "        \n",
    "class FullNormGuidance(GuidanceTfm):\n",
    "    \"Applies both Base and T-Norm on the noise prediction.\"\n",
    "    name = \"FullNormGuidance\"\n",
    "    def __init__(self, *args, **kwargs):\n",
    "        super().__init__(has_postproc=True, has_preproc=True)\n",
    "    def pre_proc(self):\n",
    "        self.diff = self.diff / torch.linalg.norm(self.diff) * torch.linalg.norm(self.u)\n",
    "    def post_proc(self):\n",
    "        self.pred = self.pred * (torch.linalg.norm(self.u) / torch.linalg.norm(self.pred))\n",
    "\n",
    "\n",
    "name2norm = {\n",
    "    'no_norm': GuidanceTfm,\n",
    "    'pred_norm': PredNormGuidance,\n",
    "    't_norm': TNormGuidance,\n",
    "    'full_norm': FullNormGuidance,\n",
    "}\n"
   ]
  },
  {
   "cell_type": "code",
   "execution_count": null,
   "id": "9576b15c",
   "metadata": {},
   "outputs": [],
   "source": [
    "#| hide\n",
    "import nbdev; nbdev.nbdev_export()"
   ]
  }
 ],
 "metadata": {
  "kernelspec": {
   "display_name": "Python 3.10.8 ('sdiff2')",
   "language": "python",
   "name": "python3"
  },
  "language_info": {
   "name": "python",
   "version": "3.10.8"
  },
  "vscode": {
   "interpreter": {
    "hash": "b6f7779b98fa77174ab8272fbd2d8ed63d72f12d6b0a519fd3f1b9efd99bf429"
   }
  }
 },
 "nbformat": 4,
 "nbformat_minor": 5
}
