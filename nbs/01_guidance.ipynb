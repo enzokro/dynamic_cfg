{
 "cells": [
  {
   "cell_type": "markdown",
   "metadata": {},
   "source": [
    "# Core \n",
    "\n",
    "> Minimal pipeline for Diffusion Guidance experiments."
   ]
  },
  {
   "cell_type": "code",
   "execution_count": null,
   "metadata": {},
   "outputs": [],
   "source": [
    "#| default_exp guidance"
   ]
  },
  {
   "cell_type": "code",
   "execution_count": null,
   "metadata": {},
   "outputs": [],
   "source": [
    "#| export\n",
    "from dynamic_cfg.kdiff import *\n",
    "from dynamic_cfg.schedules import name2schedule\n",
    "from dynamic_cfg.normalizers import name2norm"
   ]
  },
  {
   "cell_type": "code",
   "execution_count": null,
   "metadata": {},
   "outputs": [],
   "source": [
    "#| export\n",
    "\n",
    "class DynamicCFG:\n",
    "    def __init__(self, norm_name, schedule_name):\n",
    "        self.normalzier = name2norm[norm_name]()\n",
    "        self.schedules = name2schedule[schedule_name]()\n",
    "\n",
    "    def guide(self, cond, uncond, ts):\n",
    "        \"\"\"Applies dynamic Classifier-free Guidance.\n",
    "        \"\"\"\n",
    "        # set the conditional and unconditional vectors\n",
    "        self.normalzier.set_latents(u=uncond, t=cond)\n",
    "        # compute the update: (cond - uncond)\n",
    "        self.normalzier.compute_update()\n",
    "\n",
    "        # apply optional pre-processing\n",
    "        if self.normalzier.has_preproc:\n",
    "            self.normalzier.pre_proc()\n",
    "\n",
    "        # get the current, scheduled guidance value \n",
    "        guide_scale = self.scheduler.value_at(ts)\n",
    "        # run classifier-free guidance \n",
    "        pred = self.normalzier.u + (guide_scale * self.normalzier.diff)\n",
    "        self.normalzier.set_pred(pred)\n",
    "\n",
    "        # apply optional post-processing\n",
    "        if self.normalzier.has_postproc:\n",
    "            self.normalzier.post_proc()\n",
    "\n",
    "        return self.normalzier.get_pred()\n",
    "\n",
    "    def update_sched_kwargs(self, other_kwargs):\n",
    "        self.schedules.update_sched_kwargs(other_kwargs)\n",
    "    def set_timesteps(self, num_steps):\n",
    "        self.schedules.set_num_steps(num_steps)\n",
    "        self.schedules.set_guidance_schedule()"
   ]
  },
  {
   "cell_type": "code",
   "execution_count": null,
   "metadata": {},
   "outputs": [],
   "source": [
    "#| hide\n",
    "import nbdev; nbdev.nbdev_export()"
   ]
  }
 ],
 "metadata": {
  "kernelspec": {
   "display_name": "Python 3.10.8 ('sdiff2')",
   "language": "python",
   "name": "python3"
  },
  "language_info": {
   "codemirror_mode": {
    "name": "ipython",
    "version": 3
   },
   "file_extension": ".py",
   "mimetype": "text/x-python",
   "name": "python",
   "nbconvert_exporter": "python",
   "pygments_lexer": "ipython3",
   "version": "3.10.8"
  },
  "vscode": {
   "interpreter": {
    "hash": "b6f7779b98fa77174ab8272fbd2d8ed63d72f12d6b0a519fd3f1b9efd99bf429"
   }
  },
  "widgets": {
   "application/vnd.jupyter.widget-state+json": {
    "state": {},
    "version_major": 2,
    "version_minor": 0
   }
  }
 },
 "nbformat": 4,
 "nbformat_minor": 4
}
