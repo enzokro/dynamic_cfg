{
 "cells": [
  {
   "cell_type": "markdown",
   "metadata": {},
   "source": [
    "# Core \n",
    "\n",
    "> Minimal pipeline for Diffusion Guidance experiments."
   ]
  },
  {
   "cell_type": "code",
   "execution_count": null,
   "metadata": {},
   "outputs": [],
   "source": [
    "#| default_exp guidance"
   ]
  },
  {
   "cell_type": "code",
   "execution_count": null,
   "metadata": {},
   "outputs": [],
   "source": [
    "#| export\n",
    "from dynamic_cfg.kdiff import *\n",
    "from dynamic_cfg.schedules import name2schedule\n",
    "from dynamic_cfg.normalizers import name2norm"
   ]
  },
  {
   "cell_type": "code",
   "execution_count": null,
   "metadata": {},
   "outputs": [],
   "source": [
    "#| export\n",
    "\n",
    "class DynamicCFG:\n",
    "    def __init__(self, norm_name='no_norm', schedule_name='constant'):\n",
    "        self.normalizer = name2norm[norm_name]()\n",
    "        self.scheduler = name2schedule[schedule_name]()\n",
    "\n",
    "\n",
    "    def guide(self, uncond, cond, ts):\n",
    "        \"\"\"Applies dynamic Classifier-free Guidance.\n",
    "        \"\"\"\n",
    "        # set the conditional and unconditional vectors\n",
    "        self.normalizer.set_latents(u=uncond, t=cond)\n",
    "        # compute the guidance update vector: (cond - uncond)\n",
    "        self.normalizer.compute_update()\n",
    "\n",
    "        # apply optional pre-processing\n",
    "        self.normalizer.pre_proc()\n",
    "\n",
    "        # get the current, scheduled guidance scale \n",
    "        guidance_scale = self.scheduler.value_of(param='g', at=ts)\n",
    "        # run classifier-free guidance \n",
    "        self.normalizer.apply_cfg(guidance_scale)\n",
    "\n",
    "        # apply optional post-processing\n",
    "        self.normalizer.post_proc()\n",
    "\n",
    "        # return the dynamic noise prediction\n",
    "        return self.normalizer.get_pred()\n",
    "\n",
    "\n",
    "    def update_sched_kwargs(self, other_kwargs):\n",
    "        self.scheduler.update_sched_kwargs(other_kwargs)\n",
    "\n",
    "\n",
    "    def set_timesteps(self, num_steps):\n",
    "        self.scheduler.set_num_steps(num_steps)\n",
    "        self.scheduler.set_guidance_schedule()"
   ]
  },
  {
   "cell_type": "code",
   "execution_count": null,
   "metadata": {},
   "outputs": [],
   "source": [
    "#| hide\n",
    "import nbdev; nbdev.nbdev_export()"
   ]
  }
 ],
 "metadata": {
  "kernelspec": {
   "display_name": "Python 3",
   "language": "python",
   "name": "python3"
  },
  "language_info": {
   "codemirror_mode": {
    "name": "ipython",
    "version": 3
   },
   "file_extension": ".py",
   "mimetype": "text/x-python",
   "name": "python",
   "nbconvert_exporter": "python",
   "pygments_lexer": "ipython3",
   "version": "3.9.6 (default, Sep 26 2022, 11:37:49) \n[Clang 14.0.0 (clang-1400.0.29.202)]"
  },
  "vscode": {
   "interpreter": {
    "hash": "31f2aee4e71d21fbe5cf8b01ff0e069b9275f58929596ceb00d14d90e3e16cd6"
   }
  },
  "widgets": {
   "application/vnd.jupyter.widget-state+json": {
    "state": {},
    "version_major": 2,
    "version_minor": 0
   }
  }
 },
 "nbformat": 4,
 "nbformat_minor": 4
}
